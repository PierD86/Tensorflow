{
 "cells": [
  {
   "cell_type": "code",
   "execution_count": 7,
   "metadata": {},
   "outputs": [],
   "source": [
    "import tensorflow as tf\n",
    "import pandas as pd\n",
    "from tensorflow import feature_column as fc\n",
    "from tensorflow.keras.datasets import boston_housing"
   ]
  },
  {
   "cell_type": "code",
   "execution_count": 8,
   "metadata": {},
   "outputs": [
    {
     "name": "stdout",
     "output_type": "stream",
     "text": [
      "Downloading data from https://storage.googleapis.com/tensorflow/tf-keras-datasets/boston_housing.npz\n",
      "57344/57026 [==============================] - 1s 11us/step\n"
     ]
    }
   ],
   "source": [
    "#download the boston dataset\n",
    "(x_train, y_train), (x_test, y_test) = boston_housing.load_data()"
   ]
  },
  {
   "cell_type": "code",
   "execution_count": 9,
   "metadata": {},
   "outputs": [],
   "source": [
    "features = ['CRIM','ZN','INDUS','CHAS','NOX','RM','AGE','DIS','RAD','TAX','PTRATIO','B','LSTAT']\n",
    "x_train_df = pd.DataFrame(x_train, columns= features)\n",
    "x_test_df = pd.DataFrame(x_test, columns= features)\n",
    "y_train_df = pd.DataFrame(y_train, columns= ['MEDV'])\n",
    "y_test_df = pd.DataFrame(y_test, columns= ['MEDV'])"
   ]
  },
  {
   "cell_type": "code",
   "execution_count": 15,
   "metadata": {},
   "outputs": [],
   "source": [
    "#TODO: check correlation of each feature and add to feature_columns list only selected features\n",
    "feature_columns = []\n",
    "for feature_name in features:\n",
    "    feature_columns.append(fc.numeric_column(feature_name, dtype=tf.float32))"
   ]
  },
  {
   "cell_type": "code",
   "execution_count": 24,
   "metadata": {},
   "outputs": [],
   "source": [
    "#create the input function for the estimator: it returns a tuple (features,labels) in batches)\n",
    "def estimator_input_fn(df_data, df_label, epochs=10, shuffle = True, batch_size=32):\n",
    "    def input_function():\n",
    "        ds = tf.data.Dataset.from_tensor_slices((dict(df_data),df_label))\n",
    "        if shuffle:\n",
    "            ds = ds.shuffle(100)\n",
    "        ds = ds.batch(batch_size).repeat(epochs)\n",
    "        return ds\n",
    "    return input_function"
   ]
  },
  {
   "cell_type": "code",
   "execution_count": 40,
   "metadata": {},
   "outputs": [],
   "source": [
    "train_input_fn = estimator_input_fn(x_train_df,y_train_df)\n",
    "val_input_fn = estimator_input_fn(x_test_df,y_test_df,epochs=1,shuffle=False)"
   ]
  },
  {
   "cell_type": "code",
   "execution_count": 46,
   "metadata": {},
   "outputs": [
    {
     "name": "stdout",
     "output_type": "stream",
     "text": [
      "INFO:tensorflow:Using default config.\n",
      "INFO:tensorflow:Using config: {'_model_dir': 'logs/func/', '_tf_random_seed': None, '_save_summary_steps': 100, '_save_checkpoints_steps': None, '_save_checkpoints_secs': 600, '_session_config': allow_soft_placement: true\n",
      "graph_options {\n",
      "  rewrite_options {\n",
      "    meta_optimizer_iterations: ONE\n",
      "  }\n",
      "}\n",
      ", '_keep_checkpoint_max': 5, '_keep_checkpoint_every_n_hours': 10000, '_log_step_count_steps': 100, '_train_distribute': None, '_device_fn': None, '_protocol': None, '_eval_distribute': None, '_experimental_distribute': None, '_experimental_max_worker_delay_secs': None, '_session_creation_timeout_secs': 7200, '_service': None, '_cluster_spec': ClusterSpec({}), '_task_type': 'worker', '_task_id': 0, '_global_id_in_cluster': 0, '_master': '', '_evaluation_master': '', '_is_chief': True, '_num_ps_replicas': 0, '_num_worker_replicas': 1}\n",
      "INFO:tensorflow:Calling model_fn.\n",
      "WARNING:tensorflow:Layer linear_model is casting an input tensor from dtype float64 to the layer's dtype of float32, which is new behavior in TensorFlow 2.  The layer has dtype float32 because its dtype defaults to floatx.\n",
      "\n",
      "If you intended to run this layer in float32, you can safely ignore this warning. If in doubt, this warning is likely only an issue if you are porting a TensorFlow 1.X model to TensorFlow 2.\n",
      "\n",
      "To change all layers to have dtype float64 by default, call `tf.keras.backend.set_floatx('float64')`. To change just this layer, pass dtype='float64' to the layer constructor. If you are the author of this layer, you can disable autocasting by passing autocast=False to the base Layer constructor.\n",
      "\n",
      "INFO:tensorflow:Done calling model_fn.\n",
      "INFO:tensorflow:Create CheckpointSaverHook.\n",
      "INFO:tensorflow:Graph was finalized.\n",
      "INFO:tensorflow:Running local_init_op.\n",
      "INFO:tensorflow:Done running local_init_op.\n",
      "INFO:tensorflow:Calling checkpoint listeners before saving checkpoint 0...\n",
      "INFO:tensorflow:Saving checkpoints for 0 into logs/func/model.ckpt.\n",
      "INFO:tensorflow:Calling checkpoint listeners after saving checkpoint 0...\n",
      "INFO:tensorflow:loss = 21936.53, step = 0\n",
      "INFO:tensorflow:Calling checkpoint listeners before saving checkpoint 100...\n",
      "INFO:tensorflow:Saving checkpoints for 100 into logs/func/model.ckpt.\n",
      "INFO:tensorflow:Calling checkpoint listeners after saving checkpoint 100...\n",
      "INFO:tensorflow:Loss for final step: 1051.0354.\n",
      "INFO:tensorflow:Calling model_fn.\n",
      "WARNING:tensorflow:Layer linear_model is casting an input tensor from dtype float64 to the layer's dtype of float32, which is new behavior in TensorFlow 2.  The layer has dtype float32 because its dtype defaults to floatx.\n",
      "\n",
      "If you intended to run this layer in float32, you can safely ignore this warning. If in doubt, this warning is likely only an issue if you are porting a TensorFlow 1.X model to TensorFlow 2.\n",
      "\n",
      "To change all layers to have dtype float64 by default, call `tf.keras.backend.set_floatx('float64')`. To change just this layer, pass dtype='float64' to the layer constructor. If you are the author of this layer, you can disable autocasting by passing autocast=False to the base Layer constructor.\n",
      "\n",
      "INFO:tensorflow:Done calling model_fn.\n",
      "INFO:tensorflow:Starting evaluation at 2021-03-09T18:16:25Z\n",
      "INFO:tensorflow:Graph was finalized.\n",
      "INFO:tensorflow:Restoring parameters from logs/func/model.ckpt-100\n",
      "INFO:tensorflow:Running local_init_op.\n",
      "INFO:tensorflow:Done running local_init_op.\n",
      "INFO:tensorflow:Inference Time : 0.32114s\n",
      "INFO:tensorflow:Finished evaluation at 2021-03-09-18:16:25\n",
      "INFO:tensorflow:Saving dict for global step 100: average_loss = 70.05606, global_step = 100, label/mean = 23.078432, loss = 1786.4296, prediction/mean = 21.142614\n",
      "INFO:tensorflow:Saving 'checkpoint_path' summary for global step 100: logs/func/model.ckpt-100\n"
     ]
    }
   ],
   "source": [
    "#istantiate a LinearRegressor estimator\n",
    "linear_est = tf.estimator.LinearRegressor(feature_columns=feature_columns, model_dir='logs/func/')\n",
    "linear_est.train(train_input_fn, steps =100)\n",
    "result = linear_est.evaluate(val_input_fn)"
   ]
  },
  {
   "cell_type": "code",
   "execution_count": 47,
   "metadata": {},
   "outputs": [
    {
     "name": "stdout",
     "output_type": "stream",
     "text": [
      "INFO:tensorflow:Calling model_fn.\n",
      "WARNING:tensorflow:Layer linear_model is casting an input tensor from dtype float64 to the layer's dtype of float32, which is new behavior in TensorFlow 2.  The layer has dtype float32 because its dtype defaults to floatx.\n",
      "\n",
      "If you intended to run this layer in float32, you can safely ignore this warning. If in doubt, this warning is likely only an issue if you are porting a TensorFlow 1.X model to TensorFlow 2.\n",
      "\n",
      "To change all layers to have dtype float64 by default, call `tf.keras.backend.set_floatx('float64')`. To change just this layer, pass dtype='float64' to the layer constructor. If you are the author of this layer, you can disable autocasting by passing autocast=False to the base Layer constructor.\n",
      "\n",
      "INFO:tensorflow:Done calling model_fn.\n",
      "INFO:tensorflow:Graph was finalized.\n",
      "INFO:tensorflow:Restoring parameters from logs/func/model.ckpt-100\n",
      "INFO:tensorflow:Running local_init_op.\n",
      "INFO:tensorflow:Done running local_init_op.\n",
      "Predicted Value:  1.4876009 Expected: 7.2\n",
      "Predicted Value:  21.791967 Expected: 18.8\n",
      "Predicted Value:  20.810614 Expected: 19.0\n",
      "Predicted Value:  20.99627 Expected: 27.0\n",
      "Predicted Value:  21.415052 Expected: 22.2\n",
      "Predicted Value:  20.232544 Expected: 24.5\n",
      "Predicted Value:  28.280748 Expected: 31.2\n",
      "Predicted Value:  24.371748 Expected: 22.9\n",
      "Predicted Value:  19.321074 Expected: 20.5\n",
      "Predicted Value:  21.473154 Expected: 23.2\n",
      "Predicted Value:  8.024286 Expected: 18.6\n",
      "Predicted Value:  21.56079 Expected: 14.5\n",
      "Predicted Value:  21.365932 Expected: 17.8\n",
      "Predicted Value:  21.949308 Expected: 50.0\n",
      "Predicted Value:  16.143314 Expected: 20.8\n",
      "Predicted Value:  23.43043 Expected: 24.3\n",
      "Predicted Value:  19.302313 Expected: 24.2\n",
      "Predicted Value:  19.88186 Expected: 19.8\n",
      "Predicted Value:  21.23037 Expected: 19.1\n",
      "Predicted Value:  22.770456 Expected: 22.7\n",
      "Predicted Value:  16.816082 Expected: 12.0\n",
      "Predicted Value:  2.766071 Expected: 10.2\n",
      "Predicted Value:  20.305998 Expected: 20.0\n",
      "Predicted Value:  23.123281 Expected: 18.5\n",
      "Predicted Value:  30.389769 Expected: 20.9\n",
      "Predicted Value:  21.541586 Expected: 23.0\n",
      "Predicted Value:  22.487692 Expected: 27.5\n",
      "Predicted Value:  32.573505 Expected: 30.1\n",
      "Predicted Value:  4.847024 Expected: 9.5\n",
      "Predicted Value:  22.113092 Expected: 22.0\n",
      "Predicted Value:  21.683397 Expected: 21.2\n",
      "Predicted Value:  6.4553213 Expected: 14.1\n"
     ]
    }
   ],
   "source": [
    "result = linear_est.predict(val_input_fn)\n",
    "for pred,exp in zip(result,y_test[:32]):\n",
    "    print(\"Predicted Value: \", pred['predictions'][0], \"Expected:\", exp)"
   ]
  },
  {
   "cell_type": "code",
   "execution_count": null,
   "metadata": {},
   "outputs": [],
   "source": []
  }
 ],
 "metadata": {
  "kernelspec": {
   "display_name": "Python 3",
   "language": "python",
   "name": "python3"
  },
  "language_info": {
   "codemirror_mode": {
    "name": "ipython",
    "version": 3
   },
   "file_extension": ".py",
   "mimetype": "text/x-python",
   "name": "python",
   "nbconvert_exporter": "python",
   "pygments_lexer": "ipython3",
   "version": "3.8.5"
  }
 },
 "nbformat": 4,
 "nbformat_minor": 4
}
