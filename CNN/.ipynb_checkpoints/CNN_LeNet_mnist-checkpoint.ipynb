{
 "cells": [
  {
   "cell_type": "code",
   "execution_count": 1,
   "metadata": {},
   "outputs": [],
   "source": [
    "import tensorflow as tf\n",
    "from tensorflow.keras import datasets, layers, models, optimizers\n",
    "import datetime"
   ]
  },
  {
   "cell_type": "code",
   "execution_count": 2,
   "metadata": {},
   "outputs": [],
   "source": [
    "#define constants\n",
    "EPOCHS = 10\n",
    "BATCH_SIZE = 128\n",
    "VERBOSE = 1\n",
    "OPTIMIZER = tf.keras.optimizers.Adam()\n",
    "VALIDATION_SPLIT = 0.95"
   ]
  },
  {
   "cell_type": "code",
   "execution_count": 3,
   "metadata": {},
   "outputs": [],
   "source": [
    "#image characteristics\n",
    "IMG_ROWS, IMG_COLS = 28, 28 #input image dimensions\n",
    "INPUT_SHAPE = (IMG_ROWS, IMG_COLS, 1)\n",
    "NB_CLASSES = 10 #number of outputs (10 digits)"
   ]
  },
  {
   "cell_type": "code",
   "execution_count": 4,
   "metadata": {},
   "outputs": [],
   "source": [
    "#define the CNN (LeNet network proposed by Yann LeCun)\n",
    "def build(input_shape, classes):\n",
    "    model = models.Sequential()\n",
    "    #CONV --> RELU --> POOL\n",
    "    model.add(layers.Conv2D(20, (5,5), activation = 'relu', input_shape = input_shape))\n",
    "    model.add(layers.MaxPooling2D(pool_size = (2,2), strides = (2,2)))\n",
    "    #CONV --> RELU --> POOL\n",
    "    model.add(layers.Conv2D(50, (5,5), activation = 'relu'))\n",
    "    model.add(layers.MaxPooling2D(pool_size = (2,2), strides = (2,2)))\n",
    "    #FLATTEN --> RELU\n",
    "    model.add(layers.Flatten())\n",
    "    model.add(layers.Dense(500, activation = 'relu'))\n",
    "    #SOFTMAX classifier\n",
    "    model.add(layers.Dense(classes, activation = \"softmax\"))\n",
    "    return model"
   ]
  },
  {
   "cell_type": "code",
   "execution_count": 5,
   "metadata": {},
   "outputs": [],
   "source": [
    "#load data\n",
    "(X_train, y_train), (X_test, y_test) = datasets.mnist.load_data()\n",
    "#reshape data\n",
    "X_train = X_train.reshape((60000, 28, 28, 1))\n",
    "X_test = X_test.reshape((10000, 28, 28, 1))\n",
    "#Normalization within [0,1]\n",
    "X_train = X_train / 255.0\n",
    "X_test = X_test / 255.0\n",
    "#cast\n",
    "X_train = X_train.astype('float32')\n",
    "X_test = X_test.astype('float32')\n"
   ]
  },
  {
   "cell_type": "code",
   "execution_count": 6,
   "metadata": {},
   "outputs": [],
   "source": [
    "#convert class vectors to binary class matrices\n",
    "y_train = tf.keras.utils.to_categorical(y_train, NB_CLASSES)\n",
    "y_test = tf.keras.utils.to_categorical(y_test, NB_CLASSES)"
   ]
  },
  {
   "cell_type": "code",
   "execution_count": 7,
   "metadata": {},
   "outputs": [
    {
     "name": "stdout",
     "output_type": "stream",
     "text": [
      "Model: \"sequential\"\n",
      "_________________________________________________________________\n",
      "Layer (type)                 Output Shape              Param #   \n",
      "=================================================================\n",
      "conv2d (Conv2D)              (None, 24, 24, 20)        520       \n",
      "_________________________________________________________________\n",
      "max_pooling2d (MaxPooling2D) (None, 12, 12, 20)        0         \n",
      "_________________________________________________________________\n",
      "conv2d_1 (Conv2D)            (None, 8, 8, 50)          25050     \n",
      "_________________________________________________________________\n",
      "max_pooling2d_1 (MaxPooling2 (None, 4, 4, 50)          0         \n",
      "_________________________________________________________________\n",
      "flatten (Flatten)            (None, 800)               0         \n",
      "_________________________________________________________________\n",
      "dense (Dense)                (None, 500)               400500    \n",
      "_________________________________________________________________\n",
      "dense_1 (Dense)              (None, 10)                5010      \n",
      "=================================================================\n",
      "Total params: 431,080\n",
      "Trainable params: 431,080\n",
      "Non-trainable params: 0\n",
      "_________________________________________________________________\n"
     ]
    }
   ],
   "source": [
    "#initialize the optimizer and the model\n",
    "model = build(input_shape = INPUT_SHAPE, classes = NB_CLASSES)\n",
    "model.compile(loss = \"categorical_crossentropy\", optimizer = OPTIMIZER, metrics = [\"accuracy\"])\n",
    "model.summary()"
   ]
  },
  {
   "cell_type": "code",
   "execution_count": 8,
   "metadata": {},
   "outputs": [],
   "source": [
    "#TensorBoard\n",
    "LOG_DIR = \"logs/CNN_LeNet_mnist/\" + datetime.datetime.now().strftime(\"%Y%m%d-%H%M%S\")\n",
    "#tensorboard_callback = tf.keras.callbacks.TensorBoard(log_dir=LOG_DIR, histogram_freq=1)\n",
    "callbacks = [tf.keras.callbacks.TensorBoard(log_dir = LOG_DIR)]"
   ]
  },
  {
   "cell_type": "code",
   "execution_count": 9,
   "metadata": {},
   "outputs": [
    {
     "name": "stdout",
     "output_type": "stream",
     "text": [
      "Epoch 1/10\n",
      " 1/24 [>.............................] - ETA: 0s - loss: 2.3076 - accuracy: 0.0703WARNING:tensorflow:From C:\\Users\\ER180124\\.conda\\envs\\PrognosticEnv\\lib\\site-packages\\tensorflow\\python\\ops\\summary_ops_v2.py:1277: stop (from tensorflow.python.eager.profiler) is deprecated and will be removed after 2020-07-01.\n",
      "Instructions for updating:\n",
      "use `tf.profiler.experimental.stop` instead.\n",
      "24/24 [==============================] - 10s 409ms/step - loss: 1.2149 - accuracy: 0.6627 - val_loss: 0.5703 - val_accuracy: 0.8189\n",
      "Epoch 2/10\n",
      "24/24 [==============================] - 10s 396ms/step - loss: 0.3732 - accuracy: 0.8870 - val_loss: 0.3170 - val_accuracy: 0.9015\n",
      "Epoch 3/10\n",
      "24/24 [==============================] - 10s 402ms/step - loss: 0.2316 - accuracy: 0.9373 - val_loss: 0.2584 - val_accuracy: 0.9198\n",
      "Epoch 4/10\n",
      "24/24 [==============================] - 8s 354ms/step - loss: 0.1798 - accuracy: 0.9490 - val_loss: 0.1898 - val_accuracy: 0.9402\n",
      "Epoch 5/10\n",
      "24/24 [==============================] - 9s 389ms/step - loss: 0.1410 - accuracy: 0.9630 - val_loss: 0.1745 - val_accuracy: 0.9457\n",
      "Epoch 6/10\n",
      "24/24 [==============================] - 8s 341ms/step - loss: 0.1015 - accuracy: 0.9700 - val_loss: 0.1469 - val_accuracy: 0.9538\n",
      "Epoch 7/10\n",
      "24/24 [==============================] - 8s 339ms/step - loss: 0.0833 - accuracy: 0.9783 - val_loss: 0.1318 - val_accuracy: 0.9581\n",
      "Epoch 8/10\n",
      "24/24 [==============================] - 8s 351ms/step - loss: 0.0677 - accuracy: 0.9793 - val_loss: 0.1438 - val_accuracy: 0.9538\n",
      "Epoch 9/10\n",
      "24/24 [==============================] - 9s 361ms/step - loss: 0.0577 - accuracy: 0.9810 - val_loss: 0.1354 - val_accuracy: 0.9572\n",
      "Epoch 10/10\n",
      "24/24 [==============================] - 9s 381ms/step - loss: 0.0484 - accuracy: 0.9870 - val_loss: 0.1148 - val_accuracy: 0.9647\n",
      "313/313 [==============================] - 2s 6ms/step - loss: 0.0936 - accuracy: 0.9701\n",
      "\n",
      "Test score: 0.09355884045362473\n",
      "Test accuracy: 0.9700999855995178\n"
     ]
    }
   ],
   "source": [
    "#fit the model and evaluate\n",
    "history = model.fit(X_train, y_train, batch_size = BATCH_SIZE, epochs = EPOCHS, verbose = VERBOSE, validation_split = VALIDATION_SPLIT, callbacks = callbacks)\n",
    "score = model.evaluate(X_test, y_test, verbose = VERBOSE)\n",
    "print(\"\\nTest score:\", score[0])\n",
    "print(\"Test accuracy:\", score[1])"
   ]
  },
  {
   "cell_type": "code",
   "execution_count": 10,
   "metadata": {},
   "outputs": [],
   "source": [
    "%load_ext tensorboard"
   ]
  },
  {
   "cell_type": "code",
   "execution_count": null,
   "metadata": {},
   "outputs": [
    {
     "data": {
      "text/plain": [
       "Launching TensorBoard..."
      ]
     },
     "metadata": {},
     "output_type": "display_data"
    }
   ],
   "source": [
    "%tensorboard --logdir LOG_DIR"
   ]
  },
  {
   "cell_type": "code",
   "execution_count": null,
   "metadata": {},
   "outputs": [],
   "source": []
  }
 ],
 "metadata": {
  "kernelspec": {
   "display_name": "Python 3",
   "language": "python",
   "name": "python3"
  },
  "language_info": {
   "codemirror_mode": {
    "name": "ipython",
    "version": 3
   },
   "file_extension": ".py",
   "mimetype": "text/x-python",
   "name": "python",
   "nbconvert_exporter": "python",
   "pygments_lexer": "ipython3",
   "version": "3.8.5"
  }
 },
 "nbformat": 4,
 "nbformat_minor": 4
}
