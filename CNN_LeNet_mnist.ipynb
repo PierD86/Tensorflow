{
 "cells": [
  {
   "cell_type": "code",
   "execution_count": 1,
   "metadata": {},
   "outputs": [],
   "source": [
    "import tensorflow as tf\n",
    "from tensorflow.keras import datasets, layers, models, optimizers\n",
    "import datetime"
   ]
  },
  {
   "cell_type": "code",
   "execution_count": 2,
   "metadata": {},
   "outputs": [],
   "source": [
    "#define constants\n",
    "EPOCHS = 10\n",
    "BATCH_SIZE = 128\n",
    "VERBOSE = 1\n",
    "OPTIMIZER = tf.keras.optimizers.Adam()\n",
    "VALIDATION_SPLIT = 0.95"
   ]
  },
  {
   "cell_type": "code",
   "execution_count": 3,
   "metadata": {},
   "outputs": [],
   "source": [
    "#image characteristics\n",
    "IMG_ROWS, IMG_COLS = 28, 28 #input image dimensions\n",
    "INPUT_SHAPE = (IMG_ROWS, IMG_COLS, 1)\n",
    "NB_CLASSES = 10 #number of outputs (10 digits)"
   ]
  },
  {
   "cell_type": "code",
   "execution_count": 4,
   "metadata": {},
   "outputs": [],
   "source": [
    "#define the CNN (LeNet network proposed by Yann LeCun)\n",
    "def build(input_shape, classes):\n",
    "    model = models.Sequential()\n",
    "    #CONV --> RELU --> POOL\n",
    "    model.add(layers.Conv2D(20, (5,5), activation = 'relu', input_shape = input_shape))\n",
    "    model.add(layers.MaxPooling2D(pool_size = (2,2), strides = (2,2)))\n",
    "    #CONV --> RELU --> POOL\n",
    "    model.add(layers.Conv2D(50, (5,5), activation = 'relu'))\n",
    "    model.add(layers.MaxPooling2D(pool_size = (2,2), strides = (2,2)))\n",
    "    #FLATTEN --> RELU\n",
    "    model.add(layers.Flatten())\n",
    "    model.add(layers.Dense(500, activation = 'relu'))\n",
    "    #SOFTMAX classifier\n",
    "    model.add(layers.Dense(classes, activation = \"softmax\"))\n",
    "    return model"
   ]
  },
  {
   "cell_type": "code",
   "execution_count": 5,
   "metadata": {},
   "outputs": [],
   "source": [
    "#load data\n",
    "(X_train, y_train), (X_test, y_test) = datasets.mnist.load_data()\n",
    "#reshape data\n",
    "X_train = X_train.reshape((60000, 28, 28, 1))\n",
    "X_test = X_test.reshape((10000, 28, 28, 1))\n",
    "#Normalization within [0,1]\n",
    "X_train = X_train / 255.0\n",
    "X_test = X_test / 255.0\n",
    "#cast\n",
    "X_train = X_train.astype('float32')\n",
    "X_test = X_test.astype('float32')\n"
   ]
  },
  {
   "cell_type": "code",
   "execution_count": 6,
   "metadata": {},
   "outputs": [],
   "source": [
    "#convert class vectors to binary class matrices\n",
    "y_train = tf.keras.utils.to_categorical(y_train, NB_CLASSES)\n",
    "y_test = tf.keras.utils.to_categorical(y_test, NB_CLASSES)"
   ]
  },
  {
   "cell_type": "code",
   "execution_count": 7,
   "metadata": {},
   "outputs": [
    {
     "name": "stdout",
     "output_type": "stream",
     "text": [
      "Model: \"sequential\"\n",
      "_________________________________________________________________\n",
      "Layer (type)                 Output Shape              Param #   \n",
      "=================================================================\n",
      "conv2d (Conv2D)              (None, 24, 24, 20)        520       \n",
      "_________________________________________________________________\n",
      "max_pooling2d (MaxPooling2D) (None, 12, 12, 20)        0         \n",
      "_________________________________________________________________\n",
      "conv2d_1 (Conv2D)            (None, 8, 8, 50)          25050     \n",
      "_________________________________________________________________\n",
      "max_pooling2d_1 (MaxPooling2 (None, 4, 4, 50)          0         \n",
      "_________________________________________________________________\n",
      "flatten (Flatten)            (None, 800)               0         \n",
      "_________________________________________________________________\n",
      "dense (Dense)                (None, 500)               400500    \n",
      "_________________________________________________________________\n",
      "dense_1 (Dense)              (None, 10)                5010      \n",
      "=================================================================\n",
      "Total params: 431,080\n",
      "Trainable params: 431,080\n",
      "Non-trainable params: 0\n",
      "_________________________________________________________________\n"
     ]
    }
   ],
   "source": [
    "#initialize the optimizer and the model\n",
    "model = build(input_shape = INPUT_SHAPE, classes = NB_CLASSES)\n",
    "model.compile(loss = \"categorical_crossentropy\", optimizer = OPTIMIZER, metrics = [\"accuracy\"])\n",
    "model.summary()"
   ]
  },
  {
   "cell_type": "code",
   "execution_count": 8,
   "metadata": {},
   "outputs": [],
   "source": [
    "#TensorBoard\n",
    "LOG_DIR = \"logs/CNN_LeNet_mnist/\" + datetime.datetime.now().strftime(\"%Y%m%d-%H%M%S\")\n",
    "#tensorboard_callback = tf.keras.callbacks.TensorBoard(log_dir=LOG_DIR, histogram_freq=1)\n",
    "callbacks = [tf.keras.callbacks.TensorBoard(log_dir = LOG_DIR)]"
   ]
  },
  {
   "cell_type": "code",
   "execution_count": 9,
   "metadata": {},
   "outputs": [
    {
     "name": "stdout",
     "output_type": "stream",
     "text": [
      "Epoch 1/10\n",
      " 1/24 [>.............................] - ETA: 0s - loss: 2.3271 - accuracy: 0.1094WARNING:tensorflow:From C:\\Users\\ER180124\\.conda\\envs\\PrognosticEnv\\lib\\site-packages\\tensorflow\\python\\ops\\summary_ops_v2.py:1277: stop (from tensorflow.python.eager.profiler) is deprecated and will be removed after 2020-07-01.\n",
      "Instructions for updating:\n",
      "use `tf.profiler.experimental.stop` instead.\n",
      "24/24 [==============================] - 9s 365ms/step - loss: 1.2685 - accuracy: 0.6450 - val_loss: 0.5141 - val_accuracy: 0.8396\n",
      "Epoch 2/10\n",
      "24/24 [==============================] - 9s 362ms/step - loss: 0.3481 - accuracy: 0.8977 - val_loss: 0.2925 - val_accuracy: 0.9095\n",
      "Epoch 3/10\n",
      "24/24 [==============================] - 9s 367ms/step - loss: 0.2197 - accuracy: 0.9433 - val_loss: 0.2544 - val_accuracy: 0.9216\n",
      "Epoch 4/10\n",
      "24/24 [==============================] - 9s 393ms/step - loss: 0.1594 - accuracy: 0.9543 - val_loss: 0.1809 - val_accuracy: 0.9443\n",
      "Epoch 5/10\n",
      "24/24 [==============================] - 9s 391ms/step - loss: 0.1216 - accuracy: 0.9647 - val_loss: 0.1783 - val_accuracy: 0.9449\n",
      "Epoch 6/10\n",
      "24/24 [==============================] - 9s 380ms/step - loss: 0.1078 - accuracy: 0.9683 - val_loss: 0.1511 - val_accuracy: 0.9522\n",
      "Epoch 7/10\n",
      "24/24 [==============================] - 10s 397ms/step - loss: 0.0714 - accuracy: 0.9830 - val_loss: 0.1380 - val_accuracy: 0.9569\n",
      "Epoch 8/10\n",
      "24/24 [==============================] - 9s 359ms/step - loss: 0.0629 - accuracy: 0.9827 - val_loss: 0.1301 - val_accuracy: 0.9582\n",
      "Epoch 9/10\n",
      "24/24 [==============================] - 9s 371ms/step - loss: 0.0425 - accuracy: 0.9897 - val_loss: 0.1220 - val_accuracy: 0.9623\n",
      "Epoch 10/10\n",
      "24/24 [==============================] - 9s 365ms/step - loss: 0.0407 - accuracy: 0.9893 - val_loss: 0.1121 - val_accuracy: 0.9655\n",
      "313/313 [==============================] - 2s 5ms/step - loss: 0.0888 - accuracy: 0.9717\n",
      "\n",
      "Test score: 0.0888262391090393\n",
      "Test accuracy: 0.9717000126838684\n"
     ]
    }
   ],
   "source": [
    "#fit the model and evaluate\n",
    "history = model.fit(X_train, y_train, batch_size = BATCH_SIZE, epochs = EPOCHS, verbose = VERBOSE, validation_split = VALIDATION_SPLIT, callbacks = callbacks)\n",
    "score = model.evaluate(X_test, y_test, verbose = VERBOSE)\n",
    "print(\"\\nTest score:\", score[0])\n",
    "print(\"Test accuracy:\", score[1])"
   ]
  },
  {
   "cell_type": "code",
   "execution_count": 10,
   "metadata": {},
   "outputs": [],
   "source": [
    "%load_ext tensorboard"
   ]
  },
  {
   "cell_type": "code",
   "execution_count": 11,
   "metadata": {},
   "outputs": [
    {
     "data": {
      "text/plain": [
       "Reusing TensorBoard on port 6006 (pid 13292), started 0:48:36 ago. (Use '!kill 13292' to kill it.)"
      ]
     },
     "metadata": {},
     "output_type": "display_data"
    },
    {
     "data": {
      "text/html": [
       "\n",
       "      <iframe id=\"tensorboard-frame-5263969f1378d5ab\" width=\"100%\" height=\"800\" frameborder=\"0\">\n",
       "      </iframe>\n",
       "      <script>\n",
       "        (function() {\n",
       "          const frame = document.getElementById(\"tensorboard-frame-5263969f1378d5ab\");\n",
       "          const url = new URL(\"/\", window.location);\n",
       "          const port = 6006;\n",
       "          if (port) {\n",
       "            url.port = port;\n",
       "          }\n",
       "          frame.src = url;\n",
       "        })();\n",
       "      </script>\n",
       "    "
      ],
      "text/plain": [
       "<IPython.core.display.HTML object>"
      ]
     },
     "metadata": {},
     "output_type": "display_data"
    }
   ],
   "source": [
    "%tensorboard --logdir LOG_DIR"
   ]
  },
  {
   "cell_type": "code",
   "execution_count": null,
   "metadata": {},
   "outputs": [],
   "source": []
  }
 ],
 "metadata": {
  "kernelspec": {
   "display_name": "Python 3",
   "language": "python",
   "name": "python3"
  },
  "language_info": {
   "codemirror_mode": {
    "name": "ipython",
    "version": 3
   },
   "file_extension": ".py",
   "mimetype": "text/x-python",
   "name": "python",
   "nbconvert_exporter": "python",
   "pygments_lexer": "ipython3",
   "version": "3.8.5"
  }
 },
 "nbformat": 4,
 "nbformat_minor": 4
}
