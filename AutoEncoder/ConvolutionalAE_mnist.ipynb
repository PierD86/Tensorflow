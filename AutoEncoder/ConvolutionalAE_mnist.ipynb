{
 "cells": [
  {
   "cell_type": "code",
   "execution_count": 1,
   "id": "super-rebecca",
   "metadata": {},
   "outputs": [],
   "source": [
    "import numpy as np\n",
    "import tensorflow as tf\n",
    "import tensorflow.keras as K\n",
    "import matplotlib.pyplot as plt"
   ]
  },
  {
   "cell_type": "code",
   "execution_count": 2,
   "id": "declared-albany",
   "metadata": {},
   "outputs": [],
   "source": [
    "SEED = 1926\n",
    "np.random.seed(SEED)\n",
    "tf.random.set_seed(SEED)"
   ]
  },
  {
   "cell_type": "code",
   "execution_count": 3,
   "id": "extensive-madness",
   "metadata": {},
   "outputs": [],
   "source": [
    "#hyperparametes\n",
    "BATCH_SIZE = 256\n",
    "MAX_EPOCHS = 50\n",
    "LEARNING_RATE = 1e-3\n",
    "MOMENTUM = 8e-1\n",
    "OPTIMIZER = tf.keras.optimizers.Adam(learning_rate = LEARNING_RATE)\n",
    "VERBOSE = 1\n",
    "#hyperparameters for CNNs\n",
    "FILTERS = [32,32,16]"
   ]
  },
  {
   "cell_type": "code",
   "execution_count": 4,
   "id": "useful-revision",
   "metadata": {},
   "outputs": [],
   "source": [
    "#load data from MNIST dataset and preprocess\n",
    "(x_train, _), (x_test, _) = K.datasets.mnist.load_data()\n",
    "x_train = x_train / 255.\n",
    "x_test = x_test / 255.\n",
    "x_train = np.reshape(x_train, (x_train.shape[0], 28, 28, 1))\n",
    "x_test = np.reshape(x_test, (x_test.shape[0], 28, 28, 1))"
   ]
  },
  {
   "cell_type": "code",
   "execution_count": 5,
   "id": "optional-kentucky",
   "metadata": {},
   "outputs": [],
   "source": [
    "#create noise to corrupt inputs\n",
    "noise = 0.5\n",
    "noise_train = np.random.normal(loc=0.0, scale=1.0, size=x_train.shape)\n",
    "x_train_noisy = x_train + noise * noise_train\n",
    "noise_test = np.random.normal(loc=0.0, scale=1.0, size=x_test.shape)\n",
    "x_test_noisy = x_test + noise * noise_test\n",
    "#saturate x between 0 and 1\n",
    "x_train_noisy = np.clip(x_train_noisy, 0., 1.)\n",
    "x_test_noisy = np.clip(x_test_noisy, 0., 1.)\n",
    "x_train_noisy = x_train_noisy.astype('float32')\n",
    "x_test_noisy = x_test_noisy.astype('float32')"
   ]
  },
  {
   "cell_type": "code",
   "execution_count": 6,
   "id": "abandoned-reliance",
   "metadata": {},
   "outputs": [],
   "source": [
    "#istantiate vanilla autoencode\n",
    "from Autoencoders import ConvAutoEncoder\n",
    "conv_autoencoder = ConvAutoEncoder(filters = FILTERS)"
   ]
  },
  {
   "cell_type": "code",
   "execution_count": null,
   "id": "convinced-homework",
   "metadata": {},
   "outputs": [
    {
     "name": "stdout",
     "output_type": "stream",
     "text": [
      "Epoch 1/50\n",
      "235/235 [==============================] - 122s 520ms/step - loss: 0.2530 - val_loss: 0.1793\n",
      "Epoch 2/50\n",
      "235/235 [==============================] - 123s 521ms/step - loss: 0.1635 - val_loss: 0.1489\n",
      "Epoch 3/50\n",
      " 48/235 [=====>........................] - ETA: 1:47 - loss: 0.1492"
     ]
    }
   ],
   "source": [
    "#let's train the denoising autoencoder using Keras inbuilt functions\n",
    "conv_autoencoder.compile(loss = 'binary_crossentropy', optimizer = OPTIMIZER)\n",
    "history = conv_autoencoder.fit(x_train_noisy, x_train, validation_data = (x_test_noisy, x_test), epochs = MAX_EPOCHS, batch_size = BATCH_SIZE, verbose = VERBOSE)"
   ]
  },
  {
   "cell_type": "code",
   "execution_count": null,
   "id": "amateur-waterproof",
   "metadata": {},
   "outputs": [],
   "source": [
    "conv_autoencoder.loss = history.history['loss']"
   ]
  },
  {
   "cell_type": "code",
   "execution_count": null,
   "id": "suitable-classics",
   "metadata": {},
   "outputs": [],
   "source": [
    "#plot loss vs epochs\n",
    "conv_autoencoder.plot_loss()"
   ]
  },
  {
   "cell_type": "code",
   "execution_count": null,
   "id": "sealed-defensive",
   "metadata": {},
   "outputs": [],
   "source": [
    "#### PLOT REAL VS RECONSTRUCTED IMAGES ###\n",
    "conv_autoencoder.plot_real_vs_reconstructed(data = x_test_noisy)"
   ]
  },
  {
   "cell_type": "code",
   "execution_count": null,
   "id": "resistant-shore",
   "metadata": {},
   "outputs": [],
   "source": [
    "#note that in the encoding phase we have reduced the dimensions from 784 to 128 and the decoder could still reconstruct the images in a very good way"
   ]
  }
 ],
 "metadata": {
  "kernelspec": {
   "display_name": "Python 3",
   "language": "python",
   "name": "python3"
  },
  "language_info": {
   "codemirror_mode": {
    "name": "ipython",
    "version": 3
   },
   "file_extension": ".py",
   "mimetype": "text/x-python",
   "name": "python",
   "nbconvert_exporter": "python",
   "pygments_lexer": "ipython3",
   "version": "3.8.5"
  }
 },
 "nbformat": 4,
 "nbformat_minor": 5
}
