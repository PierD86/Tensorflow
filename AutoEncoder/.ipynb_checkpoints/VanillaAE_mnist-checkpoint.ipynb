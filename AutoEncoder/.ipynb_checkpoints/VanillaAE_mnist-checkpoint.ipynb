{
 "cells": [
  {
   "cell_type": "code",
   "execution_count": 1,
   "id": "timely-nowhere",
   "metadata": {},
   "outputs": [],
   "source": [
    "import numpy as np\n",
    "import tensorflow as tf\n",
    "import tensorflow.keras as K\n",
    "import matplotlib.pyplot as plt"
   ]
  },
  {
   "cell_type": "code",
   "execution_count": 2,
   "id": "orange-fetish",
   "metadata": {},
   "outputs": [],
   "source": [
    "SEED = 1926\n",
    "np.random.seed(SEED)\n",
    "tf.random.set_seed(SEED)"
   ]
  },
  {
   "cell_type": "code",
   "execution_count": 3,
   "id": "choice-drilling",
   "metadata": {},
   "outputs": [],
   "source": [
    "#hyperparametes\n",
    "BATCH_SIZE = 256\n",
    "MAX_EPOCHS = 50\n",
    "LEARNING_RATE = 1e-3\n",
    "MOMENTUM = 8e-1\n",
    "HIDDEN_DIM = 128\n",
    "ORIGINAL_DIM = 784\n",
    "OPTIMIZER = tf.keras.optimizers.Adam(learning_rate = LEARNING_RATE)\n",
    "VERBOSE = 1"
   ]
  },
  {
   "cell_type": "code",
   "execution_count": 4,
   "id": "faced-letter",
   "metadata": {},
   "outputs": [],
   "source": [
    "#load data from MNIST dataset and preprocess\n",
    "(x_train, _), (x_test, _) = K.datasets.mnist.load_data()\n",
    "x_train = x_train / 255.\n",
    "x_test = x_test / 255.\n",
    "x_train = x_train.astype(np.float32)\n",
    "x_test = x_test.astype(np.float32)\n",
    "x_train = np.reshape(x_train, (x_train.shape[0], ORIGINAL_DIM))\n",
    "x_test = np.reshape(x_test, (x_test.shape[0], ORIGINAL_DIM))"
   ]
  },
  {
   "cell_type": "code",
   "execution_count": 5,
   "id": "enabling-siemens",
   "metadata": {},
   "outputs": [],
   "source": [
    "#create batchsizes\n",
    "training_dataset = tf.data.Dataset.from_tensor_slices(x_train).batch(BATCH_SIZE)"
   ]
  },
  {
   "cell_type": "code",
   "execution_count": 6,
   "id": "abroad-richmond",
   "metadata": {},
   "outputs": [],
   "source": [
    "#istantiate vanilla autoencode\n",
    "from Autoencoders import SparseAutoEncoder\n",
    "sparse_autoencoder = SparseAutoEncoder(hidden_dim = HIDDEN_DIM, original_dim = ORIGINAL_DIM)"
   ]
  },
  {
   "cell_type": "code",
   "execution_count": 9,
   "id": "hollow-pakistan",
   "metadata": {},
   "outputs": [
    {
     "name": "stdout",
     "output_type": "stream",
     "text": [
      "Epoch 1/50. Loss: 6.2009758949279785\n",
      "Epoch 2/50. Loss: 2.250002145767212\n",
      "Epoch 3/50. Loss: 1.7756552696228027\n",
      "Epoch 4/50. Loss: 1.5708458423614502\n",
      "Epoch 5/50. Loss: 1.454763412475586\n",
      "Epoch 6/50. Loss: 1.378085732460022\n",
      "Epoch 7/50. Loss: 1.3264520168304443\n",
      "Epoch 8/50. Loss: 1.2922550439834595\n",
      "Epoch 9/50. Loss: 1.2647175788879395\n",
      "Epoch 10/50. Loss: 1.2440242767333984\n",
      "Epoch 11/50. Loss: 1.2275100946426392\n",
      "Epoch 12/50. Loss: 1.2122979164123535\n",
      "Epoch 13/50. Loss: 1.20173180103302\n",
      "Epoch 14/50. Loss: 1.1941221952438354\n",
      "Epoch 15/50. Loss: 1.1878478527069092\n",
      "Epoch 16/50. Loss: 1.182510495185852\n",
      "Epoch 17/50. Loss: 1.1779119968414307\n",
      "Epoch 18/50. Loss: 1.173879861831665\n",
      "Epoch 19/50. Loss: 1.1702786684036255\n",
      "Epoch 20/50. Loss: 1.1669467687606812\n",
      "Epoch 21/50. Loss: 1.1591161489486694\n",
      "Epoch 22/50. Loss: 1.1527247428894043\n",
      "Epoch 23/50. Loss: 1.1494640111923218\n",
      "Epoch 24/50. Loss: 1.1467901468276978\n",
      "Epoch 25/50. Loss: 1.1444957256317139\n",
      "Epoch 26/50. Loss: 1.142441749572754\n",
      "Epoch 27/50. Loss: 1.1405590772628784\n",
      "Epoch 28/50. Loss: 1.138832688331604\n",
      "Epoch 29/50. Loss: 1.1373060941696167\n",
      "Epoch 30/50. Loss: 1.1359186172485352\n",
      "Epoch 31/50. Loss: 1.1346088647842407\n",
      "Epoch 32/50. Loss: 1.13338041305542\n",
      "Epoch 33/50. Loss: 1.1322643756866455\n",
      "Epoch 34/50. Loss: 1.1311590671539307\n",
      "Epoch 35/50. Loss: 1.1301556825637817\n",
      "Epoch 36/50. Loss: 1.1292213201522827\n",
      "Epoch 37/50. Loss: 1.1283396482467651\n",
      "Epoch 38/50. Loss: 1.127506136894226\n",
      "Epoch 39/50. Loss: 1.1267294883728027\n",
      "Epoch 40/50. Loss: 1.1260013580322266\n",
      "Epoch 41/50. Loss: 1.1253174543380737\n",
      "Epoch 42/50. Loss: 1.1246479749679565\n",
      "Epoch 43/50. Loss: 1.1240317821502686\n",
      "Epoch 44/50. Loss: 1.1234465837478638\n",
      "Epoch 45/50. Loss: 1.1228692531585693\n",
      "Epoch 46/50. Loss: 1.1223678588867188\n",
      "Epoch 47/50. Loss: 1.121808409690857\n",
      "Epoch 48/50. Loss: 1.121291160583496\n",
      "Epoch 49/50. Loss: 1.1208277940750122\n",
      "Epoch 50/50. Loss: 1.1204099655151367\n"
     ]
    }
   ],
   "source": [
    "#let's train the vanilla autoencoder\n",
    "sparse_autoencoder.train(OPTIMIZER, training_dataset, epochs = MAX_EPOCHS, verbose = VERBOSE)"
   ]
  },
  {
   "cell_type": "code",
   "execution_count": 12,
   "id": "white-knock",
   "metadata": {},
   "outputs": [
    {
     "ename": "NameError",
     "evalue": "name 'plt' is not defined",
     "output_type": "error",
     "traceback": [
      "\u001b[1;31m---------------------------------------------------------------------------\u001b[0m",
      "\u001b[1;31mNameError\u001b[0m                                 Traceback (most recent call last)",
      "\u001b[1;32m<ipython-input-12-9da3b89be97d>\u001b[0m in \u001b[0;36m<module>\u001b[1;34m\u001b[0m\n\u001b[0;32m      1\u001b[0m \u001b[1;31m#plot loss vs epochs\u001b[0m\u001b[1;33m\u001b[0m\u001b[1;33m\u001b[0m\u001b[1;33m\u001b[0m\u001b[0m\n\u001b[1;32m----> 2\u001b[1;33m \u001b[0msparse_autoencoder\u001b[0m\u001b[1;33m.\u001b[0m\u001b[0mplot_loss\u001b[0m\u001b[1;33m(\u001b[0m\u001b[1;33m)\u001b[0m\u001b[1;33m\u001b[0m\u001b[1;33m\u001b[0m\u001b[0m\n\u001b[0m",
      "\u001b[1;32m~\\Code\\Tensorflow\\AutoEncoder\\Autoencoders.py\u001b[0m in \u001b[0;36mplot_loss\u001b[1;34m(self)\u001b[0m\n\u001b[0;32m     80\u001b[0m     \u001b[1;31m# plot loss vs epochs\u001b[0m\u001b[1;33m\u001b[0m\u001b[1;33m\u001b[0m\u001b[1;33m\u001b[0m\u001b[0m\n\u001b[0;32m     81\u001b[0m     \u001b[1;32mdef\u001b[0m \u001b[0mplot_loss\u001b[0m\u001b[1;33m(\u001b[0m\u001b[0mself\u001b[0m\u001b[1;33m)\u001b[0m\u001b[1;33m:\u001b[0m\u001b[1;33m\u001b[0m\u001b[1;33m\u001b[0m\u001b[0m\n\u001b[1;32m---> 82\u001b[1;33m         \u001b[0mplt\u001b[0m\u001b[1;33m.\u001b[0m\u001b[0mplot\u001b[0m\u001b[1;33m(\u001b[0m\u001b[0mself\u001b[0m\u001b[1;33m.\u001b[0m\u001b[0mloss\u001b[0m\u001b[1;33m)\u001b[0m\u001b[1;33m\u001b[0m\u001b[1;33m\u001b[0m\u001b[0m\n\u001b[0m\u001b[0;32m     83\u001b[0m         \u001b[0mplt\u001b[0m\u001b[1;33m.\u001b[0m\u001b[0mxlabel\u001b[0m\u001b[1;33m(\u001b[0m\u001b[1;34m'Epochs'\u001b[0m\u001b[1;33m)\u001b[0m\u001b[1;33m\u001b[0m\u001b[1;33m\u001b[0m\u001b[0m\n\u001b[0;32m     84\u001b[0m         \u001b[0mplt\u001b[0m\u001b[1;33m.\u001b[0m\u001b[0mylabel\u001b[0m\u001b[1;33m(\u001b[0m\u001b[1;34m'Loss'\u001b[0m\u001b[1;33m)\u001b[0m\u001b[1;33m;\u001b[0m\u001b[1;33m\u001b[0m\u001b[1;33m\u001b[0m\u001b[0m\n",
      "\u001b[1;31mNameError\u001b[0m: name 'plt' is not defined"
     ]
    }
   ],
   "source": [
    "#plot loss vs epochs\n",
    "sparse_autoencoder.plot_loss()"
   ]
  },
  {
   "cell_type": "code",
   "execution_count": null,
   "id": "level-institution",
   "metadata": {},
   "outputs": [],
   "source": [
    "#### PLOT REAL VS RECONSTRUCTED IMAGES ###\n",
    "sparse_autoencoder.plot_real_vs_reconstructed(data = x_test)"
   ]
  },
  {
   "cell_type": "code",
   "execution_count": null,
   "id": "informational-script",
   "metadata": {},
   "outputs": [],
   "source": [
    "#note that in the encoding phase we have reduced the dimensions from 784 to 128 and the decoder could still reconstruct the images in a very good way"
   ]
  }
 ],
 "metadata": {
  "kernelspec": {
   "display_name": "Python 3",
   "language": "python",
   "name": "python3"
  },
  "language_info": {
   "codemirror_mode": {
    "name": "ipython",
    "version": 3
   },
   "file_extension": ".py",
   "mimetype": "text/x-python",
   "name": "python",
   "nbconvert_exporter": "python",
   "pygments_lexer": "ipython3",
   "version": "3.8.5"
  }
 },
 "nbformat": 4,
 "nbformat_minor": 5
}
