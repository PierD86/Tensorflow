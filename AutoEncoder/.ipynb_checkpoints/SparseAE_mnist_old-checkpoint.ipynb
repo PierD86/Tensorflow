{
 "cells": [
  {
   "cell_type": "code",
   "execution_count": 1,
   "id": "innovative-student",
   "metadata": {},
   "outputs": [],
   "source": [
    "import numpy as np\n",
    "import tensorflow as tf\n",
    "import tensorflow.keras as K\n",
    "import matplotlib.pyplot as plt"
   ]
  },
  {
   "cell_type": "code",
   "execution_count": 2,
   "id": "established-supplement",
   "metadata": {},
   "outputs": [],
   "source": [
    "SEED = 1926\n",
    "np.random.seed(SEED)\n",
    "tf.random.set_seed(SEED)"
   ]
  },
  {
   "cell_type": "code",
   "execution_count": 3,
   "id": "answering-endorsement",
   "metadata": {},
   "outputs": [],
   "source": [
    "#hyperparametes\n",
    "BATCH_SIZE = 256\n",
    "MAX_EPOCHS = 50\n",
    "LEARNING_RATE = 1e-3\n",
    "MOMENTUM = 8e-1\n",
    "HIDDEN_DIM = 128\n",
    "ORIGINAL_DIM = 784\n",
    "OPTIMIZER = tf.keras.optimizers.Adam(learning_rate = LEARNING_RATE)\n",
    "VERBOSE = 0"
   ]
  },
  {
   "cell_type": "code",
   "execution_count": 4,
   "id": "modern-capability",
   "metadata": {},
   "outputs": [],
   "source": [
    "#load data from MNIST dataset and preprocess\n",
    "(x_train, _), (x_test, _) = K.datasets.mnist.load_data()\n",
    "x_train = x_train / 255.\n",
    "x_test = x_test / 255.\n",
    "x_train = x_train.astype(np.float32)\n",
    "x_test = x_test.astype(np.float32)\n",
    "x_train = np.reshape(x_train, (x_train.shape[0], ORIGINAL_DIM))\n",
    "x_test = np.reshape(x_test, (x_test.shape[0], ORIGINAL_DIM))"
   ]
  },
  {
   "cell_type": "code",
   "execution_count": 5,
   "id": "composed-quantity",
   "metadata": {},
   "outputs": [],
   "source": [
    "#create batchsizes\n",
    "training_dataset = tf.data.Dataset.from_tensor_slices(x_train).batch(BATCH_SIZE)"
   ]
  },
  {
   "cell_type": "code",
   "execution_count": 6,
   "id": "concerned-distance",
   "metadata": {},
   "outputs": [],
   "source": [
    "#istantiate vanilla autoencode\n",
    "from Autoencoders import AutoEncoder\n",
    "autoencoder = AutoEncoder(hidden_dim = HIDDEN_DIM, original_dim = ORIGINAL_DIM)"
   ]
  },
  {
   "cell_type": "code",
   "execution_count": 7,
   "id": "eastern-cooling",
   "metadata": {},
   "outputs": [],
   "source": [
    "#define reconstruction loss function\n",
    "def loss(preds, real):\n",
    "    return tf.reduce_mean(tf.square(tf.subtract(preds,real)))"
   ]
  },
  {
   "cell_type": "code",
   "execution_count": 8,
   "id": "grand-spencer",
   "metadata": {},
   "outputs": [],
   "source": [
    "#define train function\n",
    "def train(loss, model, opt, real):\n",
    "    with tf.GradientTape() as tape:\n",
    "        preds = model(real)\n",
    "        error = loss(preds, real) #reconstruction error\n",
    "        gradients = tape.gradient(error, model.trainable_variables)\n",
    "        gradient_variables = zip(gradients, model.trainable_variables)\n",
    "    opt.apply_gradients(gradient_variables)\n",
    "    return error"
   ]
  },
  {
   "cell_type": "code",
   "execution_count": 10,
   "id": "important-gallery",
   "metadata": {},
   "outputs": [],
   "source": [
    "#train function will be invoked in a loop feeded with the batched dataset\n",
    "def train_loop(model, opt, loss, dataset, epochs = 20, verbose = 1):\n",
    "    for epoch in range(epochs):\n",
    "        epoch_loss = 0\n",
    "        for step, batch_features in enumerate(dataset):\n",
    "            loss_values = train(loss, model, opt, batch_features)\n",
    "            epoch_loss += loss_values\n",
    "        model.loss.append(epoch_loss)\n",
    "        if verbose == 1:\n",
    "            print(f'Epoch {epoch + 1}/{epochs}. Loss: {epoch_loss.numpy()}')"
   ]
  },
  {
   "cell_type": "code",
   "execution_count": 11,
   "id": "graphic-appendix",
   "metadata": {},
   "outputs": [],
   "source": [
    "#let's train the vanilla autoencoder\n",
    "train_loop(autoencoder, OPTIMIZER, loss, training_dataset, epochs = MAX_EPOCHS, verbose = VERBOSE)"
   ]
  },
  {
   "cell_type": "code",
   "execution_count": 12,
   "id": "written-hypothesis",
   "metadata": {},
   "outputs": [
    {
     "data": {
      "image/png": "[encoded data removed]",
      "text/plain": [
       "<Figure size 432x288 with 1 Axes>"
      ]
     },
     "metadata": {
      "needs_background": "light"
     },
     "output_type": "display_data"
    }
   ],
   "source": [
    "#plot loss vs epochs\n",
    "plt.plot(range(MAX_EPOCHS), autoencoder.loss)\n",
    "plt.xlabel('Epochs')\n",
    "plt.ylabel('Loss');"
   ]
  },
  {
   "cell_type": "code",
   "execution_count": 16,
   "id": "sitting-forest",
   "metadata": {},
   "outputs": [
    {
     "data": {
      "image/png": "[encoded data removed]",
      "text/plain": [
       "<Figure size 1440x288 with 20 Axes>"
      ]
     },
     "metadata": {
      "needs_background": "light"
     },
     "output_type": "display_data"
    }
   ],
   "source": [
    "#### PLOT REAL VS RECONSTRUCTED IMAGES ###\n",
    "number = 10 #how many image we want to display\n",
    "plt.figure(figsize = (20,4))\n",
    "for index in range(number):\n",
    "    #display real\n",
    "    ax = plt.subplot(2, number, index + 1)\n",
    "    plt.imshow(x_test[index].reshape(28,28), cmap='gray')\n",
    "    ax.get_xaxis().set_visible(False)\n",
    "    ax.get_yaxis().set_visible(False)\n",
    "    #display reconstructed\n",
    "    ax = plt.subplot(2, number, index + 1 + number)\n",
    "    plt.imshow(autoencoder(x_test)[index].numpy().reshape(28,28), cmap='gray')\n",
    "    ax.get_xaxis().set_visible(False)\n",
    "    ax.get_yaxis().set_visible(False)"
   ]
  },
  {
   "cell_type": "code",
   "execution_count": 17,
   "id": "effective-primary",
   "metadata": {},
   "outputs": [],
   "source": [
    "#note that in the encoding phase we have reduced the dimensions from 784 to 128 and the decoder could still reconstruct the images in a very good way"
   ]
  }
 ],
 "metadata": {
  "kernelspec": {
   "display_name": "Python 3",
   "language": "python",
   "name": "python3"
  },
  "language_info": {
   "codemirror_mode": {
    "name": "ipython",
    "version": 3
   },
   "file_extension": ".py",
   "mimetype": "text/x-python",
   "name": "python",
   "nbconvert_exporter": "python",
   "pygments_lexer": "ipython3",
   "version": "3.8.5"
  }
 },
 "nbformat": 4,
 "nbformat_minor": 5
}
